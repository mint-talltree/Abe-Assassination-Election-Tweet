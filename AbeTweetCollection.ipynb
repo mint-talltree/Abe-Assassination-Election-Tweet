{
 "cells": [
  {
   "cell_type": "code",
   "execution_count": null,
   "metadata": {},
   "outputs": [],
   "source": [
    "!python --version\n",
    "#Check that version is Python 3.9.4"
   ]
  },
  {
   "cell_type": "code",
   "execution_count": null,
   "metadata": {},
   "outputs": [],
   "source": [
    "!python -m pip install snscrape #Does not work at the time of July 27 due to Twitter's policy changes\n",
    "!python -m pip install matplotlib\n",
    "!python -m pip install pandas\n",
    "!python -m pip install git+https://github.com/JustAnotherArchivist/snscrape.git #Does not work at the time of July 27 due to Twitter's policy changes"
   ]
  },
  {
   "cell_type": "code",
   "execution_count": null,
   "metadata": {},
   "outputs": [],
   "source": [
    "\n",
    "import matplotlib.pyplot as plt\n",
    "\n",
    "#######\n",
    "\n",
    "import snscrape.modules.twitter as sntwitter\n",
    "import pandas as pd\n"
   ]
  },
  {
   "cell_type": "code",
   "execution_count": null,
   "metadata": {},
   "outputs": [],
   "source": [
    "query = ' (\"選挙\"　\"参院選\" OR \"選挙2022\"　\"参院選2022\" OR \"参議院選挙\" OR \"参議院選挙2022\") lang:ja until:2022-07-11 since:2022-06-21 '\n",
    "tweets = []\n",
    "limit = 1000000\n",
    "\n",
    "\n",
    "for tweet in sntwitter.TwitterSearchScraper(query).get_items():\n",
    "    \n",
    "    # print(vars(tweet))\n",
    "    # break\n",
    "    if len(tweets) == limit:\n",
    "        break\n",
    "    else:\n",
    "        tweets.append([tweet.date, tweet.username, tweet.content, tweet.likeCount, tweet.retweetCount])\n",
    "        \n",
    "df = pd.DataFrame(tweets, columns=['Date', 'User', 'Tweet','Likes', 'Retweets']) #Likes and Retweets were not used in research so the respective code parts may be removed to the user's discretion\n",
    "print(df)\n",
    "\n",
    "# to save to csv\n",
    "df.to_csv('tweets_abe.csv')"
   ]
  }
 ],
 "metadata": {
  "language_info": {
   "name": "python"
  },
  "orig_nbformat": 4
 },
 "nbformat": 4,
 "nbformat_minor": 2
}
